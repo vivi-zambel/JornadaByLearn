﻿
horario = 'manhã'
clima = 'ensolarado'
temperatura = 'quente'

if horario == 'manhã' or horario == 'tarde':
	if clima == 'ensolarado' and temperatura == 'quente':
	print("Uma piscina cairia bem")

	if (clima == 'ensolarado' or clima == 'nublado') and (temperatura == 'amena' or temperatura == 'frio': 
	print("Seria legal praticar algum esporte")

	if clima == 'chuvoso':
	print("Aproveite para treinar seu Python")

else:
	if clima == 'chuvoso':
	print("Que tal um filme, serie ou jogatina?")
	else:
	print("Um jantar fora parece interessante")